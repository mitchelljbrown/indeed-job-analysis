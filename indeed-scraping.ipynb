{
 "cells": [
  {
   "cell_type": "code",
   "execution_count": 55,
   "metadata": {},
   "outputs": [],
   "source": [
    "import csv\n",
    "from bs4 import BeautifulSoup\n",
    "import pandas as pd\n",
    "import requests\n",
    "import datetime as dt"
   ]
  },
  {
   "cell_type": "markdown",
   "metadata": {},
   "source": [
    "## Navigate To Website"
   ]
  },
  {
   "cell_type": "code",
   "execution_count": 56,
   "metadata": {},
   "outputs": [],
   "source": [
    "# get to indeed.com\n",
    "url = 'https://ca.indeed.com/jobs?q=data%20analyst&l&from=searchOnHP&vjk=0e5ecbfeb59b4abe'\n",
    "\n",
    "headers = {\n",
    "    'User-Agent': 'Mozilla/5.0 (Windows NT 10.0; Win64; x64) AppleWebKit/537.36 (KHTML, like Gecko) Chrome/101.0.4951.54 Safari/537.36',\n",
    "    'Accept-Language': 'en-US,en;q=0.9',\n",
    "    'DNT': '1'\n",
    "}\n",
    "\n",
    "page = requests.get(url, headers=headers)\n",
    "\n",
    "# create soup record\n",
    "soup = BeautifulSoup(page.content, 'html.parser')\n",
    "records = soup.find_all('td', class_='resultContent')"
   ]
  },
  {
   "cell_type": "markdown",
   "metadata": {},
   "source": [
    "## Create Function to Extract Records"
   ]
  },
  {
   "cell_type": "code",
   "execution_count": 58,
   "metadata": {},
   "outputs": [],
   "source": [
    "def get_record(record):\n",
    "\n",
    "    title = record.h2.text\n",
    "    company = record.find('span', class_='companyName').text\n",
    "    location = record.find('div', class_='companyLocation').text\n",
    "\n",
    "    # extract pay information if it exists\n",
    "    try:\n",
    "        pay = record.find('div', class_='metadata salary-snippet-container').text\n",
    "    except AttributeError:\n",
    "        pay = ''\n",
    "\n",
    "    # extract rating informaiton if it extists\n",
    "    try:\n",
    "        rating = record.find('span', {'aria-hidden': 'true'}).text\n",
    "    except AttributeError:\n",
    "        rating = ''\n",
    "\n",
    "    result = (title, company, location, pay, rating)\n",
    "\n",
    "    return result\n"
   ]
  },
  {
   "cell_type": "markdown",
   "metadata": {},
   "source": [
    "## Collect Records From All Pages"
   ]
  },
  {
   "cell_type": "code",
   "execution_count": 59,
   "metadata": {},
   "outputs": [],
   "source": [
    "data = []\n",
    "while True:\n",
    "    try:\n",
    "        url = 'https://ca.indeed.com' + soup.find('a', {'aria-label': 'Next'}).get('href')\n",
    "    except AttributeError:\n",
    "        break\n",
    "\n",
    "    response = requests.get(url)\n",
    "    soup = BeautifulSoup(response.text, 'html.parser')\n",
    "    records = soup.find_all('td', class_='resultContent')\n",
    "\n",
    "    for card in records:\n",
    "        record = get_record(card)\n",
    "        data.append(record)\n"
   ]
  },
  {
   "cell_type": "markdown",
   "metadata": {},
   "source": [
    "## Create Pandas Data.Frame"
   ]
  },
  {
   "cell_type": "code",
   "execution_count": 73,
   "metadata": {},
   "outputs": [
    {
     "data": {
      "text/html": [
       "<div>\n",
       "<style scoped>\n",
       "    .dataframe tbody tr th:only-of-type {\n",
       "        vertical-align: middle;\n",
       "    }\n",
       "\n",
       "    .dataframe tbody tr th {\n",
       "        vertical-align: top;\n",
       "    }\n",
       "\n",
       "    .dataframe thead th {\n",
       "        text-align: right;\n",
       "    }\n",
       "</style>\n",
       "<table border=\"1\" class=\"dataframe\">\n",
       "  <thead>\n",
       "    <tr style=\"text-align: right;\">\n",
       "      <th></th>\n",
       "      <th>title</th>\n",
       "      <th>company</th>\n",
       "      <th>location</th>\n",
       "      <th>pay</th>\n",
       "      <th>rating</th>\n",
       "    </tr>\n",
       "  </thead>\n",
       "  <tbody>\n",
       "    <tr>\n",
       "      <th>0</th>\n",
       "      <td>newJunior Data Analyst</td>\n",
       "      <td>AppleOne</td>\n",
       "      <td>Mississauga, ON</td>\n",
       "      <td>$45,800 a year</td>\n",
       "      <td>3.8</td>\n",
       "    </tr>\n",
       "    <tr>\n",
       "      <th>1</th>\n",
       "      <td>Data Analyst (Remote in Canada)</td>\n",
       "      <td>Interaxon</td>\n",
       "      <td>Remote in Toronto, ON</td>\n",
       "      <td>$80,000 - $110,000 a year</td>\n",
       "      <td></td>\n",
       "    </tr>\n",
       "    <tr>\n",
       "      <th>2</th>\n",
       "      <td>newData Analyst (VBA,SQL)</td>\n",
       "      <td>Sun Life Financial</td>\n",
       "      <td>Temporarily Remote in Toronto, ON</td>\n",
       "      <td></td>\n",
       "      <td>3.9</td>\n",
       "    </tr>\n",
       "    <tr>\n",
       "      <th>3</th>\n",
       "      <td>Data Analyst/ Data Engineer/ Datawarehouse Ana...</td>\n",
       "      <td>Shorewise Consulting LLC</td>\n",
       "      <td>Remote in Mississauga, ON</td>\n",
       "      <td>$47 an hour</td>\n",
       "      <td></td>\n",
       "    </tr>\n",
       "    <tr>\n",
       "      <th>4</th>\n",
       "      <td>Data Analyst - Level 3</td>\n",
       "      <td>Libro Credit Union</td>\n",
       "      <td>London, ON</td>\n",
       "      <td></td>\n",
       "      <td>3.7</td>\n",
       "    </tr>\n",
       "  </tbody>\n",
       "</table>\n",
       "</div>"
      ],
      "text/plain": [
       "                                               title  \\\n",
       "0                             newJunior Data Analyst   \n",
       "1                    Data Analyst (Remote in Canada)   \n",
       "2                          newData Analyst (VBA,SQL)   \n",
       "3  Data Analyst/ Data Engineer/ Datawarehouse Ana...   \n",
       "4                             Data Analyst - Level 3   \n",
       "\n",
       "                    company                           location  \\\n",
       "0                  AppleOne                    Mississauga, ON   \n",
       "1                 Interaxon              Remote in Toronto, ON   \n",
       "2        Sun Life Financial  Temporarily Remote in Toronto, ON   \n",
       "3  Shorewise Consulting LLC          Remote in Mississauga, ON   \n",
       "4        Libro Credit Union                         London, ON   \n",
       "\n",
       "                         pay rating  \n",
       "0             $45,800 a year    3.8  \n",
       "1  $80,000 - $110,000 a year         \n",
       "2                               3.9  \n",
       "3                $47 an hour         \n",
       "4                               3.7  "
      ]
     },
     "execution_count": 73,
     "metadata": {},
     "output_type": "execute_result"
    }
   ],
   "source": [
    "# covert to DataFrame\n",
    "df = pd.DataFrame(data)\n",
    "\n",
    "# set columns\n",
    "df.columns = [\"title\", \"company\", \"location\", \"pay\", \"rating\"]\n",
    "\n",
    "# file name\n",
    "fname = 'data-analyst-' + dt.datetime.today().strftime('%Y-%m-%d') + '.csv'\n",
    "\n",
    "# save to .csv\n",
    "df.to_csv(fname)\n",
    "\n",
    "# print first 5 rows of data\n",
    "df.head()"
   ]
  }
 ],
 "metadata": {
  "interpreter": {
   "hash": "cce35d24d994a1f178b502831d9a715da539764ffa646ecb5cb67e5111c94f52"
  },
  "kernelspec": {
   "display_name": "Python 3.10.1 64-bit",
   "language": "python",
   "name": "python3"
  },
  "language_info": {
   "codemirror_mode": {
    "name": "ipython",
    "version": 3
   },
   "file_extension": ".py",
   "mimetype": "text/x-python",
   "name": "python",
   "nbconvert_exporter": "python",
   "pygments_lexer": "ipython3",
   "version": "3.10.1"
  },
  "orig_nbformat": 4
 },
 "nbformat": 4,
 "nbformat_minor": 2
}
